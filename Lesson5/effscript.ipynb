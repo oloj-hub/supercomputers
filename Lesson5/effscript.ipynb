{
 "cells": [
  {
   "cell_type": "code",
   "execution_count": 30,
   "metadata": {},
   "outputs": [],
   "source": [
    "import numpy as np"
   ]
  },
  {
   "cell_type": "code",
   "execution_count": 31,
   "metadata": {},
   "outputs": [],
   "source": [
    "def get_h2(r):\n",
    "    alpha=np.random.rand()*np.pi\n",
    "    betta=np.random.rand()*2*np.pi\n",
    "    data=[]\n",
    "    h=0.37\n",
    "    z_h=h*np.sin(alpha)\n",
    "    x_h=h*np.cos(alpha)*np.cos(betta)\n",
    "    y_h=h*np.cos(alpha)*np.sin(betta)\n",
    "    r_h=np.array([x_h,y_h,z_h])\n",
    "    data.append([0, r+r_h])\n",
    "    data.append([0, r-r_h])\n",
    "    h=0.1\n",
    "    z_h=h*np.sin(alpha)\n",
    "    x_h=h*np.cos(alpha)*np.cos(betta)\n",
    "    y_h=h*np.cos(alpha)*np.sin(betta)\n",
    "    r_h=np.array([x_h,y_h,z_h])\n",
    "    data.append([1, r+r_h]) \n",
    "    h=-0.2\n",
    "    z_h=h*np.sin(alpha)\n",
    "    x_h=h*np.cos(alpha)*np.cos(betta)\n",
    "    y_h=h*np.cos(alpha)*np.sin(betta)\n",
    "    r_h=np.array([x_h,y_h,z_h])\n",
    "    data.append([-1, r+r_h]) \n",
    "    return data"
   ]
  },
  {
   "cell_type": "code",
   "execution_count": 33,
   "metadata": {},
   "outputs": [],
   "source": [
    "def structure_generator(a=17.7,n=500):\n",
    "    data = []\n",
    "    for x_i in np.arange(0, a, 0.1*a):\n",
    "        for y_i in np.arange(0, a, 0.1*a):\n",
    "            for z_i in np.arange(0, a, 0.1*a):\n",
    "                data.append([0,x_i,y_i,z_i])\n",
    "    np.random.shuffle(data)\n",
    "    data = data[0:n]\n",
    "    return(data[0:n])"
   ]
  }
 ],
 "metadata": {
  "kernelspec": {
   "display_name": "Python 3",
   "language": "python",
   "name": "python3"
  },
  "language_info": {
   "codemirror_mode": {
    "name": "ipython",
    "version": 3
   },
   "file_extension": ".py",
   "mimetype": "text/x-python",
   "name": "python",
   "nbconvert_exporter": "python",
   "pygments_lexer": "ipython3",
   "version": "3.6.9"
  }
 },
 "nbformat": 4,
 "nbformat_minor": 2
}
