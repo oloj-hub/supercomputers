{
 "cells": [
  {
   "cell_type": "code",
   "execution_count": null,
   "id": "continental-mandate",
   "metadata": {},
   "outputs": [],
   "source": [
    "import numpy as np\n",
    "\n",
    "def read_lammpstrj(filename):\n",
    "        f=open(filename,\"r\")\n",
    "        lines = f.readlines()\n",
    "        coord_of_time=dict()\n",
    "        while len(lines)>0:\n",
    "                step=int(lines[1])\n",
    "                N=int(lines[3])\n",
    "                line_wall = lines[5].split()\n",
    "                wall = float(line_wall[1])\n",
    "                coordinates=dict()\n",
    "                for i in range(N):\n",
    "                        line_from_split = lines[9+i].split()\n",
    "                        id_of_atom=int(line_from_split[0])\n",
    "                        type_of_atom=int(line_from_split[1])\n",
    "                        x=float(line_from_split[2])\n",
    "                        y=float(line_from_split[3])\n",
    "                        z=float(line_from_split[4])\n",
    "                        r=np.array([x,y,z])\n",
    "                        coordinates[id_of_atom] = [type_of_atom, r]\n",
    "                coord_of_time[step]=[wall, coordinates]\n",
    "                lines=lines[9+N:]\n",
    "                print (step)\n",
    "        return coord_of_time\n",
    "\n",
    "data = read_lammpstrj(\"eff_h2.nve.lammpstrj\")\n",
    "\n",
    "print (\"len of data: \", len(data))"
   ]
  }
 ],
 "metadata": {
  "kernelspec": {
   "display_name": "Python 3",
   "language": "python",
   "name": "python3"
  },
  "language_info": {
   "codemirror_mode": {
    "name": "ipython",
    "version": 3
   },
   "file_extension": ".py",
   "mimetype": "text/x-python",
   "name": "python",
   "nbconvert_exporter": "python",
   "pygments_lexer": "ipython3",
   "version": "3.9.1"
  }
 },
 "nbformat": 4,
 "nbformat_minor": 5
}
